{
 "cells": [
  {
   "cell_type": "markdown",
   "id": "afa89349-d4ba-497f-9759-e1f4c2ecf7b4",
   "metadata": {},
   "source": [
    "# Vanilla DSGE model\n",
    "\n",
    "* asdfasdf\n",
    "* asdfa\n",
    "\n",
    "$$\n",
    "\\alpha\n",
    "$$\n"
   ]
  },
  {
   "cell_type": "code",
   "execution_count": 1,
   "id": "cc47a231-ab56-469c-b817-526029e5ffc4",
   "metadata": {},
   "outputs": [
    {
     "name": "stdout",
     "output_type": "stream",
     "text": [
      "The history saving thread hit an unexpected error (OperationalError('attempt to write a readonly database')).History will not be written to the database.\n",
      "1\n"
     ]
    }
   ],
   "source": [
    "print(1) # [^1]"
   ]
  },
  {
   "cell_type": "code",
   "execution_count": null,
   "id": "04980068-587a-4d94-a21d-22159d02530c",
   "metadata": {},
   "outputs": [],
   "source": []
  }
 ],
 "metadata": {
  "kernelspec": {
   "display_name": "env12-irispie",
   "language": "python",
   "name": "env12-irispie"
  },
  "language_info": {
   "codemirror_mode": {
    "name": "ipython",
    "version": 3
   },
   "file_extension": ".py",
   "mimetype": "text/x-python",
   "name": "python",
   "nbconvert_exporter": "python",
   "pygments_lexer": "ipython3",
   "version": "3.12.1"
  }
 },
 "nbformat": 4,
 "nbformat_minor": 5
}
